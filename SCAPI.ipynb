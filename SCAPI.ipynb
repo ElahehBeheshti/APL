{
  "nbformat": 4,
  "nbformat_minor": 0,
  "metadata": {
    "colab": {
      "provenance": [],
      "authorship_tag": "ABX9TyNYtaf4/FEh1X+YzCtEuQDK"
    },
    "kernelspec": {
      "name": "python3",
      "display_name": "Python 3"
    },
    "language_info": {
      "name": "python"
    }
  },
  "cells": [
    {
      "cell_type": "code",
      "execution_count": null,
      "metadata": {
        "id": "Q_dV6dxZyN0H"
      },
      "outputs": [],
      "source": [
        "import requests\n",
        "import json\n",
        "import pandas as pd"
      ]
    },
    {
      "cell_type": "code",
      "source": [
        "#Test code\n",
        "# Define the API endpoint and API token\n",
        "url = \"https://api.safetyculture.io/audits/search?field=audit_id\"\n",
        "api_token = \"3cd07d97bd2187c320e3833102ba4fa83af96f8b995fa93170600bdc780a0c30\"  # Replace with actual API token\n",
        "\n",
        "# Set up the headers, including the authorization token\n",
        "headers = {\n",
        "    \"Authorization\": f\"Bearer {api_token}\"\n",
        "}\n",
        "\n",
        "# Make the GET request to the API\n",
        "response = requests.get(url, headers=headers)\n",
        "\n",
        "# Check if the request was successful\n",
        "if response.status_code == 200:\n",
        "    # Parse the response JSON if needed\n",
        "    data = response.json()\n",
        "    print(data)  # Print the data or handle it as needed\n",
        "else:\n",
        "    print(f\"Error: {response.status_code}, {response.text}\")\n"
      ],
      "metadata": {
        "colab": {
          "base_uri": "https://localhost:8080/"
        },
        "id": "OHFcT2gTTeB3",
        "outputId": "90730dc6-0481-416c-d003-3121b7c8ae71"
      },
      "execution_count": null,
      "outputs": [
        {
          "output_type": "stream",
          "name": "stdout",
          "text": [
            "{'count': 100, 'total': 6551, 'audits': [{'audit_id': 'audit_b18f66f23dba4c25888b1ae914f12a38'}, {'audit_id': 'audit_1d7f2181ca2344e4b28bd74eae1757b7'}, {'audit_id': 'audit_937031e6cbd74d5784da7099447ce762'}, {'audit_id': 'audit_1ab69645784644d6a813d89be8ecebf6'}, {'audit_id': 'audit_e7cc9d6f131c41bbb71e9e37e4cdc7e8'}, {'audit_id': 'audit_3bd21a7cfe814f3ea5afc5c4599a96e8'}, {'audit_id': 'audit_b2bbf30207f34ea2aef791d6d67ee1e1'}, {'audit_id': 'audit_22fd172eb5f34999a2085d7b603688c6'}, {'audit_id': 'audit_01374b9f18524e99a46b64aa3eb2936d'}, {'audit_id': 'audit_b2ce4570b1804601be747f47467a4c03'}, {'audit_id': 'audit_e3a976d95ff74fafa7cb4cc29df06cf1'}, {'audit_id': 'audit_43e96e1d70174db4934cfa6629506dd2'}, {'audit_id': 'audit_aa991337c58e4304ac446b9ac27aee99'}, {'audit_id': 'audit_98d6d8da86ff48629b1400b3ebe1b9f7'}, {'audit_id': 'audit_1e9432b51d2746e3b1c8b461fa1155d5'}, {'audit_id': 'audit_420518156b034ccf90d8f410f31d437a'}, {'audit_id': 'audit_fd784423c3844919975670efe257cd07'}, {'audit_id': 'audit_1681d7c2370d4866b4f3956828189da8'}, {'audit_id': 'audit_d0181edb485245f0ae43fae95201acdb'}, {'audit_id': 'audit_e3240c8f56f146e7946e84c725ce5351'}, {'audit_id': 'audit_d0a907f2adc847e592fee693153dad90'}, {'audit_id': 'audit_2d8b4618986a4714ad060cf61800bde4'}, {'audit_id': 'audit_b28dad9b301b4cf3b28197ee40972f8a'}, {'audit_id': 'audit_d303c16f61c4480fab502004a3861a94'}, {'audit_id': 'audit_900e7f5e82a8427fac500128ae2216bc'}, {'audit_id': 'audit_cd9e94c4ab974637b76f182225b12f75'}, {'audit_id': 'audit_e65b1de52f444260b6e0554e9587aeb9'}, {'audit_id': 'audit_f0b2cb666c454258bb057863d93e842f'}, {'audit_id': 'audit_e17ae1948acc4659a7fac269b98c2304'}, {'audit_id': 'audit_f432d354352442bf976b296aed9f73ec'}, {'audit_id': 'audit_968e5e927b734f0ab8cba4fbf35ef113'}, {'audit_id': 'audit_f967ee359bbe4819948d13ccff839c52'}, {'audit_id': 'audit_a8a2632ffa3349ac82e349a0d395da4f'}, {'audit_id': 'audit_9f1a4f3037b445c7931f096e8e73b5ce'}, {'audit_id': 'audit_a0a4ebf00f3a44d98e63d1cbf925e581'}, {'audit_id': 'audit_a84a0b0bab484d68a60e213afd72cf1c'}, {'audit_id': 'audit_67da493491df4186b302dac920bbff4a'}, {'audit_id': 'audit_86f82708cb334490b33c3bec68705919'}, {'audit_id': 'audit_c210e0230f7d4e37a9cb57c95f578d7b'}, {'audit_id': 'audit_120208e3247b43009e3f0bc2f11b433e'}, {'audit_id': 'audit_0a311449efeb4382a490445c421ab733'}, {'audit_id': 'audit_4e76d3b1cb6e4417bae32b6651e17098'}, {'audit_id': 'audit_14f260da022a4de194304db8d7dce1dc'}, {'audit_id': 'audit_2b2221c17d6c4709b7173ef1602d5bed'}, {'audit_id': 'audit_eb26abfa4ca34462aa5835332e96d510'}, {'audit_id': 'audit_ffbe46cf607f49b1a06d2105bf2fd8c6'}, {'audit_id': 'audit_84b674e83563484d8a083bea61907293'}, {'audit_id': 'audit_754829269220408098ec8828f2500450'}, {'audit_id': 'audit_ba7ec9199bdf43c59512e3b49330376a'}, {'audit_id': 'audit_acecdf50ebbc41b08baf295e739598d4'}, {'audit_id': 'audit_e22ecdc2e0b44d7db6a79c3f57ee61f0'}, {'audit_id': 'audit_8b2af2144bca4ec292cee38407059c7e'}, {'audit_id': 'audit_d5147cf3c76748ada54aed62d2b14278'}, {'audit_id': 'audit_4b0e9c82cee74d76befabcedb92e1a07'}, {'audit_id': 'audit_ba317e0d2276426aa7b56d7558d7b6eb'}, {'audit_id': 'audit_01158341544d423faf3702cf28525024'}, {'audit_id': 'audit_e9ecef34b97f47fe954b614a260d99de'}, {'audit_id': 'audit_4448cf38bf9241108a5235c669f3eeb3'}, {'audit_id': 'audit_542468f390804a4aa0738ff04e6d9bcf'}, {'audit_id': 'audit_0c0416ac8f2544d5affc43eab924b6a8'}, {'audit_id': 'audit_a2df59ad281d4f3eaf3f431c9d8168d1'}, {'audit_id': 'audit_d8f730561d1f4adea57fae913840c625'}, {'audit_id': 'audit_696f6d650cd741809874deb95af621bf'}, {'audit_id': 'audit_fb2eb47aa3c44a6197875923a6b46bd2'}, {'audit_id': 'audit_a9265e12e6074863865890745e4a3750'}, {'audit_id': 'audit_40e2417be0774919a220ccc4d81aa58e'}, {'audit_id': 'audit_06ff6f12962a4e3ba95a64c7170974b1'}, {'audit_id': 'audit_f77485769dcb4c72afb1dd42c631adf9'}, {'audit_id': 'audit_97b3c050415d47428d93cacbdf6801d7'}, {'audit_id': 'audit_fec47160b2de480aa62b1c57c332426e'}, {'audit_id': 'audit_2e1b532afa474db6859647e201f067c9'}, {'audit_id': 'audit_b5cccabd74484bc99d901ebc28dd82c3'}, {'audit_id': 'audit_fd3a0b275c3d4691baf406b447936613'}, {'audit_id': 'audit_d4108716350b4dd7957ac3dcb42e2dab'}, {'audit_id': 'audit_ede5600932cf41c38590624548f1e2b1'}, {'audit_id': 'audit_b38b3b832ee8406b9a59229d5f7f45f4'}, {'audit_id': 'audit_2d1c69470ab14f738d0eb0a13d208134'}, {'audit_id': 'audit_b1bec78422094f3e8ad4740d544a5eeb'}, {'audit_id': 'audit_566f278aaf904174822567f50d32b8ae'}, {'audit_id': 'audit_c8b45f1a93a5498994ac1a2e255b14ac'}, {'audit_id': 'audit_821d509f08df4f3486356b72a4a65081'}, {'audit_id': 'audit_e071bc7af65f4ebf84d58ffde5fc85c0'}, {'audit_id': 'audit_831551d9e0714fa8955e210a538c1cbf'}, {'audit_id': 'audit_e17fe46e7cca4aba8304e644e18dac57'}, {'audit_id': 'audit_2dd8823471ef4845902673b9c3604e10'}, {'audit_id': 'audit_572c40eb47344ebab15c30b2655dd63f'}, {'audit_id': 'audit_7bf2901632874b989712d6aec5c9662d'}, {'audit_id': 'audit_43072e49348b46548b844794289dcacc'}, {'audit_id': 'audit_d6747817adc7403a9d1e074ea2ba430c'}, {'audit_id': 'audit_52e205f8f0884b8fa431411bdb65512d'}, {'audit_id': 'audit_fbc67959f98c4d48bd2c4fb524a53cdf'}, {'audit_id': 'audit_025fb343e58d4cfd81add8b7ff64fd48'}, {'audit_id': 'audit_569f7c3a2cb94d36a6f3317775f4cc05'}, {'audit_id': 'audit_9c630bc1d3c94f13b9cf0574f3912a0e'}, {'audit_id': 'audit_8937eda5e6464e1eacc5797eeb1a78d4'}, {'audit_id': 'audit_a78c3dcf5aa148a89b81611eda4e3db5'}, {'audit_id': 'audit_f55e8c14f85c4d0eab22d4135b15390a'}, {'audit_id': 'audit_5af7a8ea719a4614804ee2e8d1880c57'}, {'audit_id': 'audit_76360d0bf9674a82a86e1f0a2045b450'}, {'audit_id': 'audit_125f8b5b545e42f1ae0b36edab9c5cba'}]}\n"
          ]
        }
      ]
    },
    {
      "cell_type": "code",
      "source": [
        "#Complated code\n",
        "import requests\n",
        "import pandas as pd\n",
        "\n",
        "api_token = \"3cd07d97bd2187c320e3833102ba4fa83af96f8b995fa93170600bdc780a0c30\"  # Replace with actual API token\n",
        "\n",
        "# The base URL for audit details\n",
        "base_url = \"https://api.safetyculture.io/audits/\"\n",
        "\n",
        "# Set up the headers, including the authorization token\n",
        "headers = {\n",
        "    \"Authorization\": f\"Bearer {api_token}\"\n",
        "}\n",
        "\n",
        "# Fetch audits\n",
        "url = \"https://api.safetyculture.io/audits/search?field=audit_id\"\n",
        "response = requests.get(url, headers=headers)\n",
        "\n",
        "# Check if the request was successful\n",
        "if response.status_code == 200:\n",
        "    audits_response = response.json()  # Assume this contains the list of audits\n",
        "else:\n",
        "    print(f\"Error fetching audits: {response.status_code}, {response.text}\")\n",
        "    exit()  # Stop further execution if audits cannot be fetched\n",
        "\n",
        "# Initialize lists to hold extracted data\n",
        "inspections = []\n",
        "sites = []\n",
        "templates = []\n",
        "inspection_items = []\n",
        "\n",
        "# Iterate over each audit_id and fetch details\n",
        "for audit in audits_response.get('audits', []):\n",
        "    audit_id = audit['audit_id']\n",
        "    detail_url = f\"{base_url}{audit_id}\"\n",
        "\n",
        "    # Make the GET request to fetch inspection details\n",
        "    detail_response = requests.get(detail_url, headers=headers)\n",
        "\n",
        "    if detail_response.status_code == 200:\n",
        "        audit_details = detail_response.json()\n",
        "\n",
        "        # Extract inspection details\n",
        "        inspections.append({\n",
        "            \"audit_id\": audit_details.get('audit_id'),\n",
        "            \"name\": audit_details.get('name'),\n",
        "            \"score\": audit_details.get('score'),\n",
        "            \"max_score\": audit_details.get('max_score'),\n",
        "            \"score_percentage\": audit_details.get('score_percentage'),\n",
        "            \"duration\": audit_details.get('duration'),\n",
        "            \"template_id\": audit_details.get('template_id'),\n",
        "            \"organization_id\": audit_details.get('organization_id'),\n",
        "            \"template_name\": audit_details.get('template_name'),\n",
        "            \"template_author\": audit_details.get('template_author'),\n",
        "            \"site_id\": audit_details.get('site_id'),\n",
        "            \"date_started\": audit_details.get('date_started'),\n",
        "            \"date_completed\": audit_details.get('date_completed'),\n",
        "            \"document_no\": audit_details.get('document_no'),\n",
        "        })\n",
        "\n",
        "        # Extract site data\n",
        "        for site in audit_details.get('sites', []):\n",
        "            site_info = {\n",
        "                \"site_id\": site.get('site_id'),\n",
        "                \"name\": site.get('name'),\n",
        "                \"organization_id\": site.get('organization_id'),\n",
        "            }\n",
        "            if site_info not in sites:  # Avoid duplicates\n",
        "                sites.append(site_info)\n",
        "\n",
        "        # Extract template data\n",
        "        for template in audit_details.get('templates', []):\n",
        "            template_info = {\n",
        "                \"template_id\": template.get('template_id'),\n",
        "                \"archived\": template.get('archived'),\n",
        "                \"name\": template.get('name'),\n",
        "                \"description\": template.get('description'),\n",
        "                \"organization_id\": template.get('organization_id'),\n",
        "                \"owner_name\": template.get('owner_name'),\n",
        "                \"owner_id\": template.get('owner_id'),\n",
        "            }"
      ],
      "metadata": {
        "id": "eDnJpxXG3F9s"
      },
      "execution_count": null,
      "outputs": []
    },
    {
      "cell_type": "code",
      "source": [
        "!git --version  # Check if Git is available"
      ],
      "metadata": {
        "colab": {
          "base_uri": "https://localhost:8080/"
        },
        "id": "zhIpZM-el8c5",
        "outputId": "cd1b93cc-47c1-40df-f039-b5579b15ef4e"
      },
      "execution_count": null,
      "outputs": [
        {
          "output_type": "stream",
          "name": "stdout",
          "text": [
            "git version 2.34.1\n"
          ]
        }
      ]
    },
    {
      "cell_type": "code",
      "source": [
        "# Replace YOUR_AZURE_DEVOPS_URL and YOUR_REPOSITORY_NAME\n",
        "!git remote add origin https://colas-us-data@dev.azure.com/colas-us-data/colas-us-data/_git/colas-us-data\n",
        "!git push -u origin --all"
      ],
      "metadata": {
        "colab": {
          "base_uri": "https://localhost:8080/"
        },
        "id": "IvXD_tsCl9UC",
        "outputId": "53beea25-1da4-4331-cc53-01d381aba92b"
      },
      "execution_count": null,
      "outputs": [
        {
          "output_type": "stream",
          "name": "stdout",
          "text": [
            "fatal: not a git repository (or any of the parent directories): .git\n",
            "fatal: not a git repository (or any of the parent directories): .git\n"
          ]
        }
      ]
    }
  ]
}